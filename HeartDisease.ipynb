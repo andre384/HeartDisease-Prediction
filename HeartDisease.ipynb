{
 "cells": [
  {
   "cell_type": "code",
   "execution_count": 28,
   "metadata": {},
   "outputs": [],
   "source": [
    "# Import python libraries\n",
    "\n",
    "from math import exp\n",
    "import numpy as np\n",
    "import pandas as pd\n",
    "from sklearn.linear_model import LogisticRegression\n",
    "from sklearn.datasets import load_breast_cancer\n",
    "from sklearn.model_selection import train_test_split\n",
    "import matplotlib.pyplot as plt\n",
    "%matplotlib inline\n",
    "import statsmodels.api as sm\n",
    "\n",
    "from sklearn.metrics import precision_score, recall_score, confusion_matrix, accuracy_score, f1_score\n",
    "from sklearn.metrics import roc_curve, roc_auc_score, precision_recall_curve"
   ]
  },
  {
   "cell_type": "code",
   "execution_count": 29,
   "metadata": {},
   "outputs": [
    {
     "name": "stdout",
     "output_type": "stream",
     "text": [
      "<class 'pandas.core.frame.DataFrame'>\n",
      "RangeIndex: 319795 entries, 0 to 319794\n",
      "Data columns (total 18 columns):\n",
      " #   Column            Non-Null Count   Dtype  \n",
      "---  ------            --------------   -----  \n",
      " 0   HeartDisease      319795 non-null  object \n",
      " 1   BMI               319795 non-null  float64\n",
      " 2   Smoking           319795 non-null  object \n",
      " 3   AlcoholDrinking   319795 non-null  object \n",
      " 4   Stroke            319795 non-null  object \n",
      " 5   PhysicalHealth    319795 non-null  float64\n",
      " 6   MentalHealth      319795 non-null  float64\n",
      " 7   DiffWalking       319795 non-null  object \n",
      " 8   Sex               319795 non-null  object \n",
      " 9   AgeCategory       319795 non-null  object \n",
      " 10  Race              319795 non-null  object \n",
      " 11  Diabetic          319795 non-null  object \n",
      " 12  PhysicalActivity  319795 non-null  object \n",
      " 13  GenHealth         319795 non-null  object \n",
      " 14  SleepTime         319795 non-null  float64\n",
      " 15  Asthma            319795 non-null  object \n",
      " 16  KidneyDisease     319795 non-null  object \n",
      " 17  SkinCancer        319795 non-null  object \n",
      "dtypes: float64(4), object(14)\n",
      "memory usage: 43.9+ MB\n"
     ]
    },
    {
     "data": {
      "text/html": [
       "<div>\n",
       "<style scoped>\n",
       "    .dataframe tbody tr th:only-of-type {\n",
       "        vertical-align: middle;\n",
       "    }\n",
       "\n",
       "    .dataframe tbody tr th {\n",
       "        vertical-align: top;\n",
       "    }\n",
       "\n",
       "    .dataframe thead th {\n",
       "        text-align: right;\n",
       "    }\n",
       "</style>\n",
       "<table border=\"1\" class=\"dataframe\">\n",
       "  <thead>\n",
       "    <tr style=\"text-align: right;\">\n",
       "      <th></th>\n",
       "      <th>BMI</th>\n",
       "      <th>PhysicalHealth</th>\n",
       "      <th>MentalHealth</th>\n",
       "      <th>SleepTime</th>\n",
       "    </tr>\n",
       "  </thead>\n",
       "  <tbody>\n",
       "    <tr>\n",
       "      <th>count</th>\n",
       "      <td>319795.000000</td>\n",
       "      <td>319795.00000</td>\n",
       "      <td>319795.000000</td>\n",
       "      <td>319795.000000</td>\n",
       "    </tr>\n",
       "    <tr>\n",
       "      <th>mean</th>\n",
       "      <td>28.325399</td>\n",
       "      <td>3.37171</td>\n",
       "      <td>3.898366</td>\n",
       "      <td>7.097075</td>\n",
       "    </tr>\n",
       "    <tr>\n",
       "      <th>std</th>\n",
       "      <td>6.356100</td>\n",
       "      <td>7.95085</td>\n",
       "      <td>7.955235</td>\n",
       "      <td>1.436007</td>\n",
       "    </tr>\n",
       "    <tr>\n",
       "      <th>min</th>\n",
       "      <td>12.020000</td>\n",
       "      <td>0.00000</td>\n",
       "      <td>0.000000</td>\n",
       "      <td>1.000000</td>\n",
       "    </tr>\n",
       "    <tr>\n",
       "      <th>25%</th>\n",
       "      <td>24.030000</td>\n",
       "      <td>0.00000</td>\n",
       "      <td>0.000000</td>\n",
       "      <td>6.000000</td>\n",
       "    </tr>\n",
       "    <tr>\n",
       "      <th>50%</th>\n",
       "      <td>27.340000</td>\n",
       "      <td>0.00000</td>\n",
       "      <td>0.000000</td>\n",
       "      <td>7.000000</td>\n",
       "    </tr>\n",
       "    <tr>\n",
       "      <th>75%</th>\n",
       "      <td>31.420000</td>\n",
       "      <td>2.00000</td>\n",
       "      <td>3.000000</td>\n",
       "      <td>8.000000</td>\n",
       "    </tr>\n",
       "    <tr>\n",
       "      <th>max</th>\n",
       "      <td>94.850000</td>\n",
       "      <td>30.00000</td>\n",
       "      <td>30.000000</td>\n",
       "      <td>24.000000</td>\n",
       "    </tr>\n",
       "  </tbody>\n",
       "</table>\n",
       "</div>"
      ],
      "text/plain": [
       "                 BMI  PhysicalHealth   MentalHealth      SleepTime\n",
       "count  319795.000000    319795.00000  319795.000000  319795.000000\n",
       "mean       28.325399         3.37171       3.898366       7.097075\n",
       "std         6.356100         7.95085       7.955235       1.436007\n",
       "min        12.020000         0.00000       0.000000       1.000000\n",
       "25%        24.030000         0.00000       0.000000       6.000000\n",
       "50%        27.340000         0.00000       0.000000       7.000000\n",
       "75%        31.420000         2.00000       3.000000       8.000000\n",
       "max        94.850000        30.00000      30.000000      24.000000"
      ]
     },
     "execution_count": 29,
     "metadata": {},
     "output_type": "execute_result"
    }
   ],
   "source": [
    "#Read data into dataframe and display info\n",
    "#This dataset can be found at https://www.kaggle.com/datasets/kamilpytlak/personal-key-indicators-of-heart-disease\n",
    "df = pd.read_csv(\"heart_disease.csv\") \n",
    "df.info()\n",
    "df.describe()"
   ]
  },
  {
   "cell_type": "code",
   "execution_count": 30,
   "metadata": {},
   "outputs": [
    {
     "name": "stdout",
     "output_type": "stream",
     "text": [
      "HeartDisease 0\n",
      "BMI 0\n",
      "Smoking 0\n",
      "AlcoholDrinking 0\n",
      "Stroke 0\n",
      "PhysicalHealth 0\n",
      "MentalHealth 0\n",
      "DiffWalking 0\n",
      "Sex 0\n",
      "AgeCategory 0\n",
      "Race 0\n",
      "Diabetic 0\n",
      "PhysicalActivity 0\n",
      "GenHealth 0\n",
      "SleepTime 0\n",
      "Asthma 0\n",
      "KidneyDisease 0\n",
      "SkinCancer 0\n"
     ]
    }
   ],
   "source": [
    "#Check for null values\n",
    "for c in df.columns:\n",
    "    print(c, df[c].isnull().sum()) "
   ]
  },
  {
   "cell_type": "code",
   "execution_count": 31,
   "metadata": {},
   "outputs": [
    {
     "data": {
      "text/html": [
       "<div>\n",
       "<style scoped>\n",
       "    .dataframe tbody tr th:only-of-type {\n",
       "        vertical-align: middle;\n",
       "    }\n",
       "\n",
       "    .dataframe tbody tr th {\n",
       "        vertical-align: top;\n",
       "    }\n",
       "\n",
       "    .dataframe thead th {\n",
       "        text-align: right;\n",
       "    }\n",
       "</style>\n",
       "<table border=\"1\" class=\"dataframe\">\n",
       "  <thead>\n",
       "    <tr style=\"text-align: right;\">\n",
       "      <th></th>\n",
       "      <th>BMI</th>\n",
       "      <th>PhysicalHealth</th>\n",
       "      <th>MentalHealth</th>\n",
       "      <th>SleepTime</th>\n",
       "      <th>HeartDisease_Yes</th>\n",
       "      <th>Smoking_Yes</th>\n",
       "      <th>AlcoholDrinking_Yes</th>\n",
       "      <th>Stroke_Yes</th>\n",
       "      <th>DiffWalking_Yes</th>\n",
       "      <th>Sex_Male</th>\n",
       "      <th>...</th>\n",
       "      <th>Diabetic_Yes</th>\n",
       "      <th>Diabetic_Yes (during pregnancy)</th>\n",
       "      <th>PhysicalActivity_Yes</th>\n",
       "      <th>GenHealth_Fair</th>\n",
       "      <th>GenHealth_Good</th>\n",
       "      <th>GenHealth_Poor</th>\n",
       "      <th>GenHealth_Very good</th>\n",
       "      <th>Asthma_Yes</th>\n",
       "      <th>KidneyDisease_Yes</th>\n",
       "      <th>SkinCancer_Yes</th>\n",
       "    </tr>\n",
       "  </thead>\n",
       "  <tbody>\n",
       "    <tr>\n",
       "      <th>0</th>\n",
       "      <td>16.60</td>\n",
       "      <td>3.0</td>\n",
       "      <td>30.0</td>\n",
       "      <td>5.0</td>\n",
       "      <td>0</td>\n",
       "      <td>1</td>\n",
       "      <td>0</td>\n",
       "      <td>0</td>\n",
       "      <td>0</td>\n",
       "      <td>0</td>\n",
       "      <td>...</td>\n",
       "      <td>1</td>\n",
       "      <td>0</td>\n",
       "      <td>1</td>\n",
       "      <td>0</td>\n",
       "      <td>0</td>\n",
       "      <td>0</td>\n",
       "      <td>1</td>\n",
       "      <td>1</td>\n",
       "      <td>0</td>\n",
       "      <td>1</td>\n",
       "    </tr>\n",
       "    <tr>\n",
       "      <th>1</th>\n",
       "      <td>20.34</td>\n",
       "      <td>0.0</td>\n",
       "      <td>0.0</td>\n",
       "      <td>7.0</td>\n",
       "      <td>0</td>\n",
       "      <td>0</td>\n",
       "      <td>0</td>\n",
       "      <td>1</td>\n",
       "      <td>0</td>\n",
       "      <td>0</td>\n",
       "      <td>...</td>\n",
       "      <td>0</td>\n",
       "      <td>0</td>\n",
       "      <td>1</td>\n",
       "      <td>0</td>\n",
       "      <td>0</td>\n",
       "      <td>0</td>\n",
       "      <td>1</td>\n",
       "      <td>0</td>\n",
       "      <td>0</td>\n",
       "      <td>0</td>\n",
       "    </tr>\n",
       "    <tr>\n",
       "      <th>2</th>\n",
       "      <td>26.58</td>\n",
       "      <td>20.0</td>\n",
       "      <td>30.0</td>\n",
       "      <td>8.0</td>\n",
       "      <td>0</td>\n",
       "      <td>1</td>\n",
       "      <td>0</td>\n",
       "      <td>0</td>\n",
       "      <td>0</td>\n",
       "      <td>1</td>\n",
       "      <td>...</td>\n",
       "      <td>1</td>\n",
       "      <td>0</td>\n",
       "      <td>1</td>\n",
       "      <td>1</td>\n",
       "      <td>0</td>\n",
       "      <td>0</td>\n",
       "      <td>0</td>\n",
       "      <td>1</td>\n",
       "      <td>0</td>\n",
       "      <td>0</td>\n",
       "    </tr>\n",
       "    <tr>\n",
       "      <th>3</th>\n",
       "      <td>24.21</td>\n",
       "      <td>0.0</td>\n",
       "      <td>0.0</td>\n",
       "      <td>6.0</td>\n",
       "      <td>0</td>\n",
       "      <td>0</td>\n",
       "      <td>0</td>\n",
       "      <td>0</td>\n",
       "      <td>0</td>\n",
       "      <td>0</td>\n",
       "      <td>...</td>\n",
       "      <td>0</td>\n",
       "      <td>0</td>\n",
       "      <td>0</td>\n",
       "      <td>0</td>\n",
       "      <td>1</td>\n",
       "      <td>0</td>\n",
       "      <td>0</td>\n",
       "      <td>0</td>\n",
       "      <td>0</td>\n",
       "      <td>1</td>\n",
       "    </tr>\n",
       "    <tr>\n",
       "      <th>4</th>\n",
       "      <td>23.71</td>\n",
       "      <td>28.0</td>\n",
       "      <td>0.0</td>\n",
       "      <td>8.0</td>\n",
       "      <td>0</td>\n",
       "      <td>0</td>\n",
       "      <td>0</td>\n",
       "      <td>0</td>\n",
       "      <td>1</td>\n",
       "      <td>0</td>\n",
       "      <td>...</td>\n",
       "      <td>0</td>\n",
       "      <td>0</td>\n",
       "      <td>1</td>\n",
       "      <td>0</td>\n",
       "      <td>0</td>\n",
       "      <td>0</td>\n",
       "      <td>1</td>\n",
       "      <td>0</td>\n",
       "      <td>0</td>\n",
       "      <td>0</td>\n",
       "    </tr>\n",
       "  </tbody>\n",
       "</table>\n",
       "<p>5 rows × 38 columns</p>\n",
       "</div>"
      ],
      "text/plain": [
       "     BMI  PhysicalHealth  MentalHealth  SleepTime  HeartDisease_Yes  \\\n",
       "0  16.60             3.0          30.0        5.0                 0   \n",
       "1  20.34             0.0           0.0        7.0                 0   \n",
       "2  26.58            20.0          30.0        8.0                 0   \n",
       "3  24.21             0.0           0.0        6.0                 0   \n",
       "4  23.71            28.0           0.0        8.0                 0   \n",
       "\n",
       "   Smoking_Yes  AlcoholDrinking_Yes  Stroke_Yes  DiffWalking_Yes  Sex_Male  \\\n",
       "0            1                    0           0                0         0   \n",
       "1            0                    0           1                0         0   \n",
       "2            1                    0           0                0         1   \n",
       "3            0                    0           0                0         0   \n",
       "4            0                    0           0                1         0   \n",
       "\n",
       "   ...  Diabetic_Yes  Diabetic_Yes (during pregnancy)  PhysicalActivity_Yes  \\\n",
       "0  ...             1                                0                     1   \n",
       "1  ...             0                                0                     1   \n",
       "2  ...             1                                0                     1   \n",
       "3  ...             0                                0                     0   \n",
       "4  ...             0                                0                     1   \n",
       "\n",
       "   GenHealth_Fair  GenHealth_Good  GenHealth_Poor  GenHealth_Very good  \\\n",
       "0               0               0               0                    1   \n",
       "1               0               0               0                    1   \n",
       "2               1               0               0                    0   \n",
       "3               0               1               0                    0   \n",
       "4               0               0               0                    1   \n",
       "\n",
       "   Asthma_Yes  KidneyDisease_Yes  SkinCancer_Yes  \n",
       "0           1                  0               1  \n",
       "1           0                  0               0  \n",
       "2           1                  0               0  \n",
       "3           0                  0               1  \n",
       "4           0                  0               0  \n",
       "\n",
       "[5 rows x 38 columns]"
      ]
     },
     "execution_count": 31,
     "metadata": {},
     "output_type": "execute_result"
    }
   ],
   "source": [
    "#Create dummy variables for categorical features\n",
    "df1=df\n",
    "\n",
    "for i in df1.columns:\n",
    "    if df1[i].dtype=='object':\n",
    "        df1=pd.get_dummies(df1,columns=[i],drop_first=bool)\n",
    "\n",
    "df1.head()"
   ]
  },
  {
   "cell_type": "code",
   "execution_count": 32,
   "metadata": {},
   "outputs": [],
   "source": [
    "#Splits independent variables and target variable from training data\n",
    "x=df1.drop(columns=['HeartDisease_Yes'])\n",
    "y=df1['HeartDisease_Yes']"
   ]
  },
  {
   "cell_type": "code",
   "execution_count": 33,
   "metadata": {},
   "outputs": [],
   "source": [
    "#Test size is .25\n",
    "x_train,x_test,y_train,y_test=train_test_split(x,y,test_size=.25,random_state=1)"
   ]
  },
  {
   "cell_type": "code",
   "execution_count": 34,
   "metadata": {},
   "outputs": [
    {
     "name": "stderr",
     "output_type": "stream",
     "text": [
      "C:\\Users\\re487\\anaconda3\\lib\\site-packages\\sklearn\\linear_model\\_logistic.py:762: ConvergenceWarning: lbfgs failed to converge (status=1):\n",
      "STOP: TOTAL NO. of ITERATIONS REACHED LIMIT.\n",
      "\n",
      "Increase the number of iterations (max_iter) or scale the data as shown in:\n",
      "    https://scikit-learn.org/stable/modules/preprocessing.html\n",
      "Please also refer to the documentation for alternative solver options:\n",
      "    https://scikit-learn.org/stable/modules/linear_model.html#logistic-regression\n",
      "  n_iter_i = _check_optimize_result(\n"
     ]
    }
   ],
   "source": [
    "#Create sklearn logistic regression model from train data\n",
    "model=LogisticRegression().fit(x_train,y_train)"
   ]
  },
  {
   "cell_type": "code",
   "execution_count": 35,
   "metadata": {},
   "outputs": [
    {
     "name": "stdout",
     "output_type": "stream",
     "text": [
      "Intercept:  [-3.69331939]\n",
      "Coeficients:  [[ 0.00974955  0.00646698  0.0040848  -0.03543926  0.31267608 -0.38117662\n",
      "   1.00836707  0.21624568  0.65496768 -1.41007911 -1.36492128 -1.44752341\n",
      "  -1.09739272 -0.73585758 -0.13392214  0.27967341  0.58528571  0.79782161\n",
      "   1.08430229  1.27846503  1.56145677 -0.79507727 -0.91080154 -0.80517075\n",
      "  -0.43906354 -0.51466835  0.27811701  0.52297891 -0.04273648 -0.05522674\n",
      "   1.14380019  0.69270232  1.42232656  0.10212392  0.26087495  0.56621742\n",
      "   0.04458075]]\n",
      "Score:  0.9166468623747639\n"
     ]
    }
   ],
   "source": [
    "#Print the coeficients and accuracy of logistic regression model\n",
    "print('Intercept: ',model.intercept_)\n",
    "print('Coeficients: ',model.coef_)\n",
    "print('Score: ',model.score(x_test,y_test))"
   ]
  },
  {
   "cell_type": "code",
   "execution_count": 36,
   "metadata": {},
   "outputs": [
    {
     "data": {
      "text/html": [
       "<div>\n",
       "<style scoped>\n",
       "    .dataframe tbody tr th:only-of-type {\n",
       "        vertical-align: middle;\n",
       "    }\n",
       "\n",
       "    .dataframe tbody tr th {\n",
       "        vertical-align: top;\n",
       "    }\n",
       "\n",
       "    .dataframe thead th {\n",
       "        text-align: right;\n",
       "    }\n",
       "</style>\n",
       "<table border=\"1\" class=\"dataframe\">\n",
       "  <thead>\n",
       "    <tr style=\"text-align: right;\">\n",
       "      <th></th>\n",
       "      <th>0</th>\n",
       "      <th>1</th>\n",
       "    </tr>\n",
       "  </thead>\n",
       "  <tbody>\n",
       "    <tr>\n",
       "      <th>0</th>\n",
       "      <td>72570</td>\n",
       "      <td>641</td>\n",
       "    </tr>\n",
       "    <tr>\n",
       "      <th>1</th>\n",
       "      <td>6023</td>\n",
       "      <td>715</td>\n",
       "    </tr>\n",
       "  </tbody>\n",
       "</table>\n",
       "</div>"
      ],
      "text/plain": [
       "       0    1\n",
       "0  72570  641\n",
       "1   6023  715"
      ]
     },
     "execution_count": 36,
     "metadata": {},
     "output_type": "execute_result"
    }
   ],
   "source": [
    "#Create confusion matrix that compares actual values (rows) against prediction values (columns)\n",
    "y_predict=model.predict(x_test)\n",
    "pd.DataFrame(confusion_matrix(y_test,y_predict,labels=[0,1]))"
   ]
  },
  {
   "cell_type": "code",
   "execution_count": 37,
   "metadata": {},
   "outputs": [
    {
     "name": "stdout",
     "output_type": "stream",
     "text": [
      "recall score:  0.10611457405758386\n",
      "accuracy score:  0.9166468623747639\n",
      "f1 score:  0.17667407956510997\n",
      "precision score:  0.5272861356932154\n"
     ]
    }
   ],
   "source": [
    "#Display logistic regression model metrics\n",
    "print('recall score: ',recall_score(y_test,y_predict))\n",
    "print('accuracy score: ',accuracy_score(y_test,y_predict))\n",
    "print('f1 score: ',f1_score(y_test,y_predict))\n",
    "print('precision score: ',precision_score(y_test,y_predict))"
   ]
  },
  {
   "cell_type": "code",
   "execution_count": 46,
   "metadata": {},
   "outputs": [
    {
     "name": "stderr",
     "output_type": "stream",
     "text": [
      "C:\\Users\\re487\\anaconda3\\lib\\site-packages\\statsmodels\\discrete\\discrete_model.py:1799: RuntimeWarning: overflow encountered in exp\n",
      "  return 1/(1+np.exp(-X))\n",
      "C:\\Users\\re487\\anaconda3\\lib\\site-packages\\statsmodels\\discrete\\discrete_model.py:1852: RuntimeWarning: divide by zero encountered in log\n",
      "  return np.sum(np.log(self.cdf(q*np.dot(X,params))))\n"
     ]
    },
    {
     "name": "stdout",
     "output_type": "stream",
     "text": [
      "Optimization terminated successfully.\n",
      "         Current function value: inf\n",
      "         Iterations 9\n"
     ]
    },
    {
     "name": "stderr",
     "output_type": "stream",
     "text": [
      "C:\\Users\\re487\\anaconda3\\lib\\site-packages\\statsmodels\\base\\model.py:547: HessianInversionWarning: Inverting hessian failed, no bse or cov_params available\n",
      "  warnings.warn('Inverting hessian failed, no bse or cov_params '\n"
     ]
    },
    {
     "name": "stdout",
     "output_type": "stream",
     "text": [
      "                           Logit Regression Results                           \n",
      "==============================================================================\n",
      "Dep. Variable:       HeartDisease_Yes   No. Observations:               239846\n",
      "Model:                          Logit   Df Residuals:                   239808\n",
      "Method:                           MLE   Df Model:                           37\n",
      "Date:                Tue, 19 Apr 2022   Pseudo R-squ.:                     inf\n",
      "Time:                        14:55:04   Log-Likelihood:                   -inf\n",
      "converged:                       True   LL-Null:                        0.0000\n",
      "Covariance Type:            nonrobust   LLR p-value:                     1.000\n",
      "====================================================================================================\n",
      "                                       coef    std err          z      P>|z|      [0.025      0.975]\n",
      "----------------------------------------------------------------------------------------------------\n",
      "const                               -6.3017      0.134    -47.079      0.000      -6.564      -6.039\n",
      "BMI                                  0.0087      0.001      6.595      0.000       0.006       0.011\n",
      "PhysicalHealth                       0.0039      0.001      3.877      0.000       0.002       0.006\n",
      "MentalHealth                         0.0045      0.001      4.403      0.000       0.002       0.006\n",
      "SleepTime                           -0.0261      0.005     -5.233      0.000      -0.036      -0.016\n",
      "Smoking_Yes                          0.3560      0.017     21.514      0.000       0.324       0.388\n",
      "AlcoholDrinking_Yes                 -0.2414      0.039     -6.256      0.000      -0.317      -0.166\n",
      "Stroke_Yes                           1.0712      0.026     41.112      0.000       1.020       1.122\n",
      "DiffWalking_Yes                      0.2168      0.021     10.367      0.000       0.176       0.258\n",
      "Sex_Male                             0.7009      0.017     41.802      0.000       0.668       0.734\n",
      "AgeCategory_25-29                    0.2195      0.143      1.535      0.125      -0.061       0.500\n",
      "AgeCategory_30-34                    0.5643      0.129      4.372      0.000       0.311       0.817\n",
      "AgeCategory_35-39                    0.5955      0.125      4.757      0.000       0.350       0.841\n",
      "AgeCategory_40-44                    1.0471      0.117      8.944      0.000       0.818       1.277\n",
      "AgeCategory_45-49                    1.3705      0.113     12.120      0.000       1.149       1.592\n",
      "AgeCategory_50-54                    1.7601      0.109     16.090      0.000       1.546       1.974\n",
      "AgeCategory_55-59                    1.9996      0.108     18.570      0.000       1.789       2.211\n",
      "AgeCategory_60-64                    2.2859      0.107     21.421      0.000       2.077       2.495\n",
      "AgeCategory_65-69                    2.5147      0.106     23.629      0.000       2.306       2.723\n",
      "AgeCategory_70-74                    2.8022      0.106     26.347      0.000       2.594       3.011\n",
      "AgeCategory_75-79                    2.9941      0.107     27.991      0.000       2.784       3.204\n",
      "AgeCategory_80 or older              3.2551      0.107     30.511      0.000       3.046       3.464\n",
      "Race_Asian                          -0.5224      0.097     -5.409      0.000      -0.712      -0.333\n",
      "Race_Black                          -0.3530      0.067     -5.294      0.000      -0.484      -0.222\n",
      "Race_Hispanic                       -0.2767      0.068     -4.069      0.000      -0.410      -0.143\n",
      "Race_Other                          -0.0543      0.074     -0.735      0.462      -0.199       0.090\n",
      "Race_White                          -0.0883      0.060     -1.482      0.138      -0.205       0.029\n",
      "Diabetic_No, borderline diabetes     0.1346      0.048      2.796      0.005       0.040       0.229\n",
      "Diabetic_Yes                         0.4891      0.019     25.396      0.000       0.451       0.527\n",
      "Diabetic_Yes (during pregnancy)      0.1062      0.123      0.866      0.387      -0.134       0.347\n",
      "PhysicalActivity_Yes                 0.0145      0.019      0.782      0.434      -0.022       0.051\n",
      "GenHealth_Fair                       1.4857      0.038     39.335      0.000       1.412       1.560\n",
      "GenHealth_Good                       1.0252      0.034     30.206      0.000       0.959       1.092\n",
      "GenHealth_Poor                       1.8657      0.047     39.546      0.000       1.773       1.958\n",
      "GenHealth_Very good                  0.4740      0.035     13.623      0.000       0.406       0.542\n",
      "Asthma_Yes                           0.2786      0.022     12.576      0.000       0.235       0.322\n",
      "KidneyDisease_Yes                    0.5494      0.028     19.442      0.000       0.494       0.605\n",
      "SkinCancer_Yes                       0.1129      0.022      5.023      0.000       0.069       0.157\n",
      "====================================================================================================\n"
     ]
    },
    {
     "name": "stderr",
     "output_type": "stream",
     "text": [
      "C:\\Users\\re487\\anaconda3\\lib\\site-packages\\statsmodels\\base\\model.py:547: HessianInversionWarning: Inverting hessian failed, no bse or cov_params available\n",
      "  warnings.warn('Inverting hessian failed, no bse or cov_params '\n"
     ]
    }
   ],
   "source": [
    "#Add column of ones to x data and create statsmodels logistic regression model\n",
    "xi=sm.add_constant(x_train,has_constant='add')\n",
    "logmodel=sm.Logit(y_train,xi).fit()\n",
    "print(logmodel.summary())"
   ]
  },
  {
   "cell_type": "code",
   "execution_count": 47,
   "metadata": {},
   "outputs": [],
   "source": [
    "#Remove features with p values > .05\n",
    "xtr=x_train.drop(columns=['AgeCategory_25-29','Race_Other','Race_White','Diabetic_Yes (during pregnancy)','PhysicalActivity_Yes'])\n",
    "xte=x_test.drop(columns=['AgeCategory_25-29','Race_Other','Race_White','Diabetic_Yes (during pregnancy)','PhysicalActivity_Yes'])"
   ]
  },
  {
   "cell_type": "code",
   "execution_count": 49,
   "metadata": {},
   "outputs": [
    {
     "name": "stderr",
     "output_type": "stream",
     "text": [
      "C:\\Users\\re487\\anaconda3\\lib\\site-packages\\sklearn\\linear_model\\_logistic.py:762: ConvergenceWarning: lbfgs failed to converge (status=1):\n",
      "STOP: TOTAL NO. of ITERATIONS REACHED LIMIT.\n",
      "\n",
      "Increase the number of iterations (max_iter) or scale the data as shown in:\n",
      "    https://scikit-learn.org/stable/modules/preprocessing.html\n",
      "Please also refer to the documentation for alternative solver options:\n",
      "    https://scikit-learn.org/stable/modules/linear_model.html#logistic-regression\n",
      "  n_iter_i = _check_optimize_result(\n"
     ]
    },
    {
     "data": {
      "text/html": [
       "<div>\n",
       "<style scoped>\n",
       "    .dataframe tbody tr th:only-of-type {\n",
       "        vertical-align: middle;\n",
       "    }\n",
       "\n",
       "    .dataframe tbody tr th {\n",
       "        vertical-align: top;\n",
       "    }\n",
       "\n",
       "    .dataframe thead th {\n",
       "        text-align: right;\n",
       "    }\n",
       "</style>\n",
       "<table border=\"1\" class=\"dataframe\">\n",
       "  <thead>\n",
       "    <tr style=\"text-align: right;\">\n",
       "      <th></th>\n",
       "      <th>0</th>\n",
       "      <th>1</th>\n",
       "    </tr>\n",
       "  </thead>\n",
       "  <tbody>\n",
       "    <tr>\n",
       "      <th>0</th>\n",
       "      <td>72587</td>\n",
       "      <td>624</td>\n",
       "    </tr>\n",
       "    <tr>\n",
       "      <th>1</th>\n",
       "      <td>6007</td>\n",
       "      <td>731</td>\n",
       "    </tr>\n",
       "  </tbody>\n",
       "</table>\n",
       "</div>"
      ],
      "text/plain": [
       "       0    1\n",
       "0  72587  624\n",
       "1   6007  731"
      ]
     },
     "execution_count": 49,
     "metadata": {},
     "output_type": "execute_result"
    }
   ],
   "source": [
    "#Create new sklearn logistic regression model and display confusion matrix\n",
    "model2=LogisticRegression().fit(xtr,y_train)\n",
    "ypre=model2.predict(xte)\n",
    "pd.DataFrame(confusion_matrix(y_test,ypre,labels=[0,1]))"
   ]
  },
  {
   "cell_type": "code",
   "execution_count": 50,
   "metadata": {},
   "outputs": [
    {
     "name": "stdout",
     "output_type": "stream",
     "text": [
      "recall score:  0.10848916592460671\n",
      "accuracy score:  0.9170596255112634\n",
      "f1 score:  0.18064994439639195\n",
      "precision score:  0.5394833948339484\n"
     ]
    }
   ],
   "source": [
    "#Print new logistic regression metrics\n",
    "print('recall score: ',recall_score(yte,ypre))\n",
    "print('accuracy score: ',accuracy_score(yte,ypre))\n",
    "print('f1 score: ',f1_score(yte,ypre))\n",
    "print('precision score: ',precision_score(yte,ypre))"
   ]
  },
  {
   "cell_type": "code",
   "execution_count": 51,
   "metadata": {},
   "outputs": [
    {
     "name": "stderr",
     "output_type": "stream",
     "text": [
      "C:\\Users\\re487\\anaconda3\\lib\\site-packages\\statsmodels\\discrete\\discrete_model.py:1799: RuntimeWarning: overflow encountered in exp\n",
      "  return 1/(1+np.exp(-X))\n",
      "C:\\Users\\re487\\anaconda3\\lib\\site-packages\\statsmodels\\discrete\\discrete_model.py:1852: RuntimeWarning: divide by zero encountered in log\n",
      "  return np.sum(np.log(self.cdf(q*np.dot(X,params))))\n"
     ]
    },
    {
     "name": "stdout",
     "output_type": "stream",
     "text": [
      "Optimization terminated successfully.\n",
      "         Current function value: inf\n",
      "         Iterations 9\n"
     ]
    },
    {
     "name": "stderr",
     "output_type": "stream",
     "text": [
      "C:\\Users\\re487\\anaconda3\\lib\\site-packages\\statsmodels\\base\\model.py:547: HessianInversionWarning: Inverting hessian failed, no bse or cov_params available\n",
      "  warnings.warn('Inverting hessian failed, no bse or cov_params '\n"
     ]
    },
    {
     "name": "stdout",
     "output_type": "stream",
     "text": [
      "                           Logit Regression Results                           \n",
      "==============================================================================\n",
      "Dep. Variable:       HeartDisease_Yes   No. Observations:               239846\n",
      "Model:                          Logit   Df Residuals:                   239813\n",
      "Method:                           MLE   Df Model:                           32\n",
      "Date:                Tue, 19 Apr 2022   Pseudo R-squ.:                     inf\n",
      "Time:                        14:57:55   Log-Likelihood:                   -inf\n",
      "converged:                       True   LL-Null:                        0.0000\n",
      "Covariance Type:            nonrobust   LLR p-value:                     1.000\n",
      "====================================================================================================\n",
      "                                       coef    std err          z      P>|z|      [0.025      0.975]\n",
      "----------------------------------------------------------------------------------------------------\n",
      "const                               -6.2579      0.093    -67.524      0.000      -6.440      -6.076\n",
      "BMI                                  0.0086      0.001      6.577      0.000       0.006       0.011\n",
      "PhysicalHealth                       0.0038      0.001      3.825      0.000       0.002       0.006\n",
      "MentalHealth                         0.0045      0.001      4.392      0.000       0.002       0.006\n",
      "SleepTime                           -0.0264      0.005     -5.284      0.000      -0.036      -0.017\n",
      "Smoking_Yes                          0.3566      0.017     21.578      0.000       0.324       0.389\n",
      "AlcoholDrinking_Yes                 -0.2417      0.039     -6.265      0.000      -0.317      -0.166\n",
      "Stroke_Yes                           1.0721      0.026     41.152      0.000       1.021       1.123\n",
      "DiffWalking_Yes                      0.2150      0.021     10.395      0.000       0.174       0.255\n",
      "Sex_Male                             0.7002      0.017     41.932      0.000       0.667       0.733\n",
      "AgeCategory_30-34                    0.4553      0.105      4.348      0.000       0.250       0.661\n",
      "AgeCategory_35-39                    0.4864      0.100      4.870      0.000       0.291       0.682\n",
      "AgeCategory_40-44                    0.9375      0.089     10.475      0.000       0.762       1.113\n",
      "AgeCategory_45-49                    1.2599      0.084     14.962      0.000       1.095       1.425\n",
      "AgeCategory_50-54                    1.6490      0.079     20.823      0.000       1.494       1.804\n",
      "AgeCategory_55-59                    1.8876      0.077     24.572      0.000       1.737       2.038\n",
      "AgeCategory_60-64                    2.1735      0.075     28.802      0.000       2.026       2.321\n",
      "AgeCategory_65-69                    2.4016      0.075     31.998      0.000       2.254       2.549\n",
      "AgeCategory_70-74                    2.6884      0.075     35.864      0.000       2.541       2.835\n",
      "AgeCategory_75-79                    2.8795      0.076     37.974      0.000       2.731       3.028\n",
      "AgeCategory_80 or older              3.1395      0.075     41.600      0.000       2.992       3.287\n",
      "Race_Asian                          -0.4377      0.077     -5.670      0.000      -0.589      -0.286\n",
      "Race_Black                          -0.2690      0.033     -8.100      0.000      -0.334      -0.204\n",
      "Race_Hispanic                       -0.1934      0.036     -5.402      0.000      -0.264      -0.123\n",
      "Diabetic_No, borderline diabetes     0.1353      0.048      2.811      0.005       0.041       0.230\n",
      "Diabetic_Yes                         0.4891      0.019     25.435      0.000       0.451       0.527\n",
      "GenHealth_Fair                       1.4841      0.038     39.422      0.000       1.410       1.558\n",
      "GenHealth_Good                       1.0245      0.034     30.220      0.000       0.958       1.091\n",
      "GenHealth_Poor                       1.8641      0.047     39.677      0.000       1.772       1.956\n",
      "GenHealth_Very good                  0.4735      0.035     13.610      0.000       0.405       0.542\n",
      "Asthma_Yes                           0.2792      0.022     12.606      0.000       0.236       0.323\n",
      "KidneyDisease_Yes                    0.5492      0.028     19.435      0.000       0.494       0.605\n",
      "SkinCancer_Yes                       0.1120      0.022      4.993      0.000       0.068       0.156\n",
      "====================================================================================================\n"
     ]
    },
    {
     "name": "stderr",
     "output_type": "stream",
     "text": [
      "C:\\Users\\re487\\anaconda3\\lib\\site-packages\\statsmodels\\base\\model.py:547: HessianInversionWarning: Inverting hessian failed, no bse or cov_params available\n",
      "  warnings.warn('Inverting hessian failed, no bse or cov_params '\n"
     ]
    }
   ],
   "source": [
    "#Print new statmodels logistic regression summary \n",
    "xi=sm.add_constant(xtr,has_constant='add')\n",
    "logmodel2=sm.Logit(y_train,xi).fit()\n",
    "print(logmodel2.summary())"
   ]
  },
  {
   "cell_type": "code",
   "execution_count": 66,
   "metadata": {},
   "outputs": [
    {
     "name": "stdout",
     "output_type": "stream",
     "text": [
      "Recall Score:    0.1061  New Recall Score:    0.1085\n",
      "Accuracy Score:  0.9166  New Accuracy Score:  0.9171\n",
      "F1 Score:        0.1767  New F1 Score:        0.1806\n",
      "Precision Score: 0.5273  New Precision Score: 0.5395\n"
     ]
    }
   ],
   "source": [
    "#The new model shows a slight improvement in metrics\n",
    "print('Recall Score:   ',round(recall_score(y_test,y_predict),4),' New Recall Score:   ',round(recall_score(yte,ypre),4),)\n",
    "print('Accuracy Score: ',round(accuracy_score(y_test,y_predict),4),' New Accuracy Score: ',round(accuracy_score(yte,ypre),4))\n",
    "print('F1 Score:       ',round(f1_score(y_test,y_predict),4),' New F1 Score:       ',round(f1_score(yte,ypre),4))\n",
    "print('Precision Score:',round(precision_score(y_test,y_predict),4),' New Precision Score:',round(precision_score(yte,ypre),4))"
   ]
  }
 ],
 "metadata": {
  "kernelspec": {
   "display_name": "Python 3",
   "language": "python",
   "name": "python3"
  },
  "language_info": {
   "codemirror_mode": {
    "name": "ipython",
    "version": 3
   },
   "file_extension": ".py",
   "mimetype": "text/x-python",
   "name": "python",
   "nbconvert_exporter": "python",
   "pygments_lexer": "ipython3",
   "version": "3.8.5"
  }
 },
 "nbformat": 4,
 "nbformat_minor": 4
}
